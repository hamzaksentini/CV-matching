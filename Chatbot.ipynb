{
  "nbformat": 4,
  "nbformat_minor": 0,
  "metadata": {
    "colab": {
      "provenance": [],
      "authorship_tag": "ABX9TyOl9Sggwb+0pO8j5ynQzd0r",
      "include_colab_link": true
    },
    "kernelspec": {
      "name": "python3",
      "display_name": "Python 3"
    },
    "language_info": {
      "name": "python"
    }
  },
  "cells": [
    {
      "cell_type": "markdown",
      "metadata": {
        "id": "view-in-github",
        "colab_type": "text"
      },
      "source": [
        "<a href=\"https://colab.research.google.com/github/hamzaksentini/CV-matching/blob/main/Chatbot.ipynb\" target=\"_parent\"><img src=\"https://colab.research.google.com/assets/colab-badge.svg\" alt=\"Open In Colab\"/></a>"
      ]
    },
    {
      "cell_type": "code",
      "execution_count": null,
      "metadata": {
        "id": "8qfx66on7XbZ"
      },
      "outputs": [],
      "source": [
        "import numpy as np\n",
        "import nltk\n",
        "import string\n",
        "import random"
      ]
    },
    {
      "cell_type": "code",
      "source": [
        "f = open('/content/Data-chatbot.txt','r',errors = 'ignore')\n",
        "raw_doc = f.read()"
      ],
      "metadata": {
        "id": "rx9kqjLh7g5U"
      },
      "execution_count": null,
      "outputs": []
    },
    {
      "cell_type": "code",
      "source": [
        "raw_doc"
      ],
      "metadata": {
        "id": "m9JEK9Xd8inJ"
      },
      "execution_count": null,
      "outputs": []
    },
    {
      "cell_type": "code",
      "source": [
        "raw_doc = raw_doc.lower()\n",
        "nltk.download('punkt')\n",
        "nltk.download(\"wordnet\")\n",
        "nltk.download(\"omw-1.4\")\n",
        "sentence_tokens = nltk.sent_tokenize(raw_doc)\n",
        "word_tokens = nltk.word_tokenize(raw_doc)\n"
      ],
      "metadata": {
        "colab": {
          "base_uri": "https://localhost:8080/"
        },
        "id": "scxFCltu7-VL",
        "outputId": "db282e40-3ef4-4c0b-c050-5c1d305bd080"
      },
      "execution_count": null,
      "outputs": [
        {
          "output_type": "stream",
          "name": "stderr",
          "text": [
            "[nltk_data] Downloading package punkt to /root/nltk_data...\n",
            "[nltk_data]   Unzipping tokenizers/punkt.zip.\n",
            "[nltk_data] Downloading package wordnet to /root/nltk_data...\n",
            "[nltk_data] Downloading package omw-1.4 to /root/nltk_data...\n"
          ]
        }
      ]
    },
    {
      "cell_type": "code",
      "source": [
        "lemmer = nltk.stem.WordNetLemmatizer()\n",
        "def LemTokens(tokens):\n",
        "  return[lemmer.lemmatize(token) for token in tokens]\n",
        "remove_punc_dict = dict((ord(punct),None) for punct in string.punctuation)\n",
        "def LemNormalize(text):\n",
        "  return LemTokens(nltk.word_tokenize(text.lower().translate(remove_punc_dict)))"
      ],
      "metadata": {
        "id": "Prp4Cnrl9EYm"
      },
      "execution_count": null,
      "outputs": []
    },
    {
      "cell_type": "code",
      "source": [
        "greet_inputs = ('hello','hey','hi','whassup','how are you?')\n",
        "greet_responses = ('hello','hey','hi','hey there')\n",
        "def greet (sentence):\n",
        "  for word in sentence.split():\n",
        "    if word.lower() in greet_inputs:\n",
        "      return random.choice(greet_responses)"
      ],
      "metadata": {
        "id": "URWjOIwF99nK"
      },
      "execution_count": null,
      "outputs": []
    },
    {
      "cell_type": "code",
      "source": [
        "from sklearn.feature_extraction.text import TfidfVectorizer\n",
        "from sklearn.metrics.pairwise import cosine_similarity"
      ],
      "metadata": {
        "id": "6WrNHbw9-zz3"
      },
      "execution_count": null,
      "outputs": []
    },
    {
      "cell_type": "code",
      "source": [
        "def response(user_response):\n",
        "  robot1_response = ''\n",
        "  TfidfVec = TfidfVectorizer(tokenizer = LemNormalize, stop_words = 'english')\n",
        "  tfidf = TfidfVec.fit_transform(sentence_tokens)\n",
        "  vals = cosine_similarity(tfidf[-1], tfidf)\n",
        "  idx = vals.argsort()[0][-2]\n",
        "  flat = vals.flatten()\n",
        "  flat.sort()\n",
        "  req_tfidf = flat[-2]\n",
        "  if (req_tfidf == 0):\n",
        "    robot1_response = robot1_response + \"I am sorry, I didnt understand \"\n",
        "    return robot1_response\n",
        "  else:\n",
        "    robot1_response = robot1_response + sentence_tokens[idx]\n",
        "    return robot1_response\n"
      ],
      "metadata": {
        "id": "3CFlybWe_KB1"
      },
      "execution_count": null,
      "outputs": []
    },
    {
      "cell_type": "code",
      "source": [
        "flag = True\n",
        "print('Hello I am the Learning Bot, Start typing your text after greeting to talk to me, to end the conv type bye!')\n",
        "while(flag == True):\n",
        "  user_response = input()\n",
        "  user_response = user_response.lower()\n",
        "  if(user_response!=\"bye\"):\n",
        "    if(user_response == \"thank you\" or user_response ==\"thanks\"):\n",
        "      flag = False\n",
        "      print('Bot: you are Welcome')\n",
        "    else:\n",
        "      sentence_tokens.append(user_response)\n",
        "      word_tokens = word_tokens + nltk.word_tokenize(user_response)\n",
        "      final_words = list(set(word_tokens))\n",
        "      print('Bot: ', end ='')\n",
        "      print(response(user_response))\n",
        "      sentence_tokens.remove(user_response)\n",
        "  else:\n",
        "    flag = False\n",
        "    print('bot: Goodbye !')"
      ],
      "metadata": {
        "id": "rYnNMA1qAn0q"
      },
      "execution_count": null,
      "outputs": []
    }
  ]
}